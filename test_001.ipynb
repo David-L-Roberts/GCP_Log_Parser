{
 "cells": [
  {
   "cell_type": "markdown",
   "metadata": {},
   "source": [
    "# Case 1"
   ]
  },
  {
   "cell_type": "markdown",
   "metadata": {},
   "source": [
    "Break line using regular expressions."
   ]
  },
  {
   "cell_type": "markdown",
   "metadata": {},
   "source": [
    "### Explanation:\n",
    "1. **Regex Pattern Breakdown**:\n",
    "   - `\\b0E7\\b`: Matches \"0E7\" as a whole word.\n",
    "   - `\\b\\d{2}[A-Z]{3}\\d{2}\\b`: Matches the date format (e.g., \"16APR24\").\n",
    "   - `\\b\\d{2}:\\d{2}:\\d{2}\\.\\d\\b`: Matches the time format (e.g., \"16:47:29.9\").\n",
    "   - `Track \\d`: Matches \"Track 3\".\n",
    "   - `EZ: \\d{3}`: Matches \"EZ: 101\".\n",
    "   - `EX: \\d{2}`: Matches \"EX: 98\".\n",
    "   - `Speed: \\d{2}   mph`: Matches \"Speed: 82   mph\".\n",
    "2. **`re.findall`**:\n",
    "   Extracts all matches of the pattern from the input string.\n",
    "\n",
    "\n",
    "The | characters in the pattern expression act as logical OR operators in regular expressions. They allow you to specify multiple patterns, and the re.findall function will match any part of the input string that satisfies one of these patterns."
   ]
  },
  {
   "cell_type": "code",
   "execution_count": 8,
   "metadata": {},
   "outputs": [
    {
     "name": "stdout",
     "output_type": "stream",
     "text": [
      "['16APR24', '17:35:16.6', 'Track 1', 'EZ: 32', 'EX: 101', 'Speed: 42   mph']\n",
      "['16APR24', '17:35:20.6', 'Track 3', 'EZ: 97', 'EX: 99']\n",
      "['16APR24', '17:35:21.8', 'Track 1', 'EZ: 29', 'EX: 102', 'Speed: 38   mph']\n",
      "['16APR24', '17:35:27.3', 'Track 1', 'EZ: 26', 'EX: 101', 'Speed: 34   mph']\n",
      "['16APR24', '17:35:28.6', 'Track 3', 'EZ: 100', 'EX: 99']\n",
      "['16APR24', '17:35:33.0', 'Track 1', 'EZ: 23', 'EX: 102', 'Speed: 9   mph']\n"
     ]
    }
   ],
   "source": [
    "import re\n",
    "\n",
    "pattern = r'\\b\\d{2}[A-Z]{3}\\d{2}\\b|\\b\\d{2}:\\d{2}:\\d{2}\\.\\d{1,}\\b|Track \\d|EZ: \\d{1,}|EX: \\d{1,}|Speed: \\d{1,}   mph'\n",
    "\n",
    "dataList = [\n",
    "    \"0E7 16APR24 17:35:16.6  Track 1   EZ: 32         EX: 101     Speed: 42   mph    \",\n",
    "    \"0E7 16APR24 17:35:20.6  Track 3   EZ: 97         EX: 99    \",\n",
    "    \"0E7 16APR24 17:35:21.8  Track 1   EZ: 29         EX: 102     Speed: 38   mph    \",\n",
    "    \"0E7 16APR24 17:35:27.3  Track 1   EZ: 26         EX: 101     Speed: 34   mph    \",\n",
    "    \"0E7 16APR24 17:35:28.6  Track 3   EZ: 100        EX: 99      \",\n",
    "    \"0E7 16APR24 17:35:33.0  Track 1   EZ: 23         EX: 102     Speed: 9   mph    \",\n",
    "]\n",
    "\n",
    "for data in dataList:\n",
    "    # Extract the elements\n",
    "    elements = re.findall(pattern, data)\n",
    "\n",
    "    print(elements)"
   ]
  },
  {
   "cell_type": "markdown",
   "metadata": {},
   "source": [
    "# Case 2"
   ]
  },
  {
   "cell_type": "markdown",
   "metadata": {},
   "source": [
    "Break line using spaces and number of 'word' elements"
   ]
  },
  {
   "cell_type": "code",
   "execution_count": 5,
   "metadata": {},
   "outputs": [
    {
     "name": "stdout",
     "output_type": "stream",
     "text": [
      "['0E7', '16APR24', '16:47:29.9', 'Track 3', 'EZ: 101', 'EX: 98', 'Speed: 82 mph']\n"
     ]
    }
   ],
   "source": [
    "# Input string\n",
    "data = \"0E7 16APR24 16:47:29.9  Track 3   EZ: 101        EX: 98      Speed: 82   mph\"\n",
    "\n",
    "# Manually split and trim based on observed patterns\n",
    "parts = data.split()  # Initial split by whitespace\n",
    "result = []\n",
    "\n",
    "# Manually group items based on positions or patterns\n",
    "result.append(parts[0])  # \"0E7\"\n",
    "result.append(parts[1])  # \"16APR24\"\n",
    "result.append(parts[2])  # \"16:47:29.9\"\n",
    "result.append(f\"{parts[3]} {parts[4]}\")  # \"Track 3\"\n",
    "result.append(f\"{parts[5]} {parts[6]}\")  # \"EZ: 101\"\n",
    "result.append(f\"{parts[7]} {parts[8]}\")  # \"EX: 98\"\n",
    "result.append(\" \".join(parts[9:]))       # \"Speed: 82   mph\"\n",
    "\n",
    "print(result)\n"
   ]
  },
  {
   "cell_type": "code",
   "execution_count": 24,
   "metadata": {},
   "outputs": [
    {
     "name": "stdout",
     "output_type": "stream",
     "text": [
      "['Track ', ' EZ: ', ' EX: ']\n",
      "0 \t ['0E7', '16APR24', '17:35:16.6', 'Track 1', 'EZ: 32', 'EX: 101', 'Speed: 42 mph']\n",
      "['Track ', ' EZ: ', ' EX: ']\n",
      "1 \t ['0E7', '16APR24', '17:35:20.6', 'Track 3', 'EZ: 97', 'EX: 99', '']\n",
      "['Track ', ' EZ: ', ' EX: ']\n",
      "2 \t ['0E7', '16APR24', '17:35:21.8', 'Track 1', 'EZ: 29', 'EX: 102', 'Speed: 38 mph']\n",
      "['Track ', ' EZ: ', ' EX: ']\n",
      "3 \t ['0E7', '16APR24', '17:35:27.3', 'Track 1', 'EZ: 26', 'EX: 101', 'Speed: 34 mph']\n",
      "['Track ', ' EZ: ', ' EX: ']\n",
      "4 \t ['0E7', '16APR24', '17:35:28.6', 'Track 3', 'EZ: 100', 'EX: 99', '']\n",
      "['Track ', ' EZ: ', ' EX: ']\n",
      "5 \t ['0E7', '16APR24', '17:35:33.0', 'Track 1', 'EZ: 23', 'EX: 102', 'Speed: 9 mph']\n",
      "['Track ']\n",
      "['Track ']\n",
      "[]\n",
      "[]\n",
      "['Track ', ' EX: ']\n",
      "['Track ', ' EX: ']\n"
     ]
    }
   ],
   "source": [
    "import re\n",
    "\n",
    "dataList = [\n",
    "    \"0E7 16APR24 17:35:16.6  Track 1   EZ: 32         EX: 101     Speed: 42   mph    \",\n",
    "    \"0E7 16APR24 17:35:20.6  Track 3   EZ: 97         EX: 99    \",\n",
    "    \"0E7 16APR24 17:35:21.8  Track 1   EZ: 29         EX: 102     Speed: 38   mph    \",\n",
    "    \"0E7 16APR24 17:35:27.3  Track 1   EZ: 26         EX: 101     Speed: 34   mph    \",\n",
    "    \"0E7 16APR24 17:35:28.6  Track 3   EZ: 100        EX: 99      \",\n",
    "    \"0E7 16APR24 17:35:33.0  Track 1   EZ: 23         EX: 102     Speed: 9   mph    \",\n",
    "    \"0E7 16APR24 17:35:14.1  Track 3 Train Present      \",\n",
    "    \"0E7 16APR24 17:36:23.0  Track 1 Island Deenergized                              \",\n",
    "    \"0E7 16APR24 17:36:23.0  Trk: 1 Crossing Warning Time: 89 s, Isl Speed: 26    mph\",\n",
    "    \"0E7 16APR24 17:36:23.0  Train Move Trk: 1, WTime: 89  s, Speeds: 38  26  26  mph\",\n",
    "    \"0E7 16APR24 18:24:56.3  Track 2 Prime    Deenergized   ,EZ: 45  EX: 100 Spd: 105\",\n",
    "    \"0E7 16APR24 18:24:56.3  Track 2 Preempt  Deenergized   ,EZ: 45  EX: 100 Spd: 105\",\n",
    "]\n",
    "\n",
    "\n",
    "def checkDataLine(data: str) -> bool:\n",
    "    pattern = r'\\bTrack | EZ: | EX: '\n",
    "    # Extract the elements\n",
    "    elements = re.findall(pattern, data)\n",
    "\n",
    "    print(elements)\n",
    "    if len(elements) >= 3:\n",
    "        return True\n",
    "    else:\n",
    "        return False\n",
    "\n",
    "def groupTextFromParts(parts) -> list[str]:\n",
    "    result = []\n",
    "\n",
    "    # Manually group items based on positions or patterns\n",
    "    result.append(parts[0])                     # e.g. \"0E7\"\n",
    "    result.append(parts[1])                     # e.g. \"16APR24\"\n",
    "    result.append(parts[2])                     # e.g. \"16:47:29.9\"\n",
    "    result.append(f\"{parts[3]} {parts[4]}\")     # e.g. \"Track 3\"\n",
    "    result.append(f\"{parts[5]} {parts[6]}\")     # e.g. \"EZ: 101\"\n",
    "    result.append(f\"{parts[7]} {parts[8]}\")     # e.g. \"EX: 98\"\n",
    "    result.append(\" \".join(parts[9:]))          # e.g. \"Speed: 82   mph\"\n",
    "    \n",
    "    return result\n",
    "\n",
    "for i, data in enumerate(dataList):\n",
    "    # Manually split and trim based on observed patterns\n",
    "    parts = data.split()  # Initial split by whitespace\n",
    "\n",
    "    if checkDataLine(data) == False:\n",
    "        continue\n",
    "\n",
    "    result = groupTextFromParts(parts)\n",
    "\n",
    "    print(i, '\\t', result)"
   ]
  },
  {
   "cell_type": "markdown",
   "metadata": {},
   "source": [
    "# Case 3"
   ]
  },
  {
   "cell_type": "markdown",
   "metadata": {},
   "source": [
    "Use method from Case 2 to process text from a file."
   ]
  },
  {
   "cell_type": "code",
   "execution_count": 48,
   "metadata": {},
   "outputs": [],
   "source": [
    "import re\n",
    "\n",
    "def checkDataLine(data: str) -> bool:\n",
    "    # check 1\n",
    "    pattern = r'CHK: '\n",
    "    elements = re.findall(pattern, data)\n",
    "    if len(elements) > 0:\n",
    "        return False\n",
    "\n",
    "    # check 2\n",
    "    pattern = r'\\bTrack | EZ: | EX: '\n",
    "    elements = re.findall(pattern, data)\n",
    "    if len(elements) >= 3:\n",
    "        return True\n",
    "    else:\n",
    "        return False\n",
    "\n",
    "def groupTextFromParts(parts) -> list[str]:\n",
    "    result = []\n",
    "\n",
    "    # Manually group items based on positions or patterns\n",
    "    # result.append(parts[0])       # e.g. \"0E7\"\n",
    "    result.append(parts[1])         # e.g. \"16APR24\"\n",
    "    result.append(parts[2])         # e.g. \"16:47:29.9\"\n",
    "    result.append(f\"{parts[3]} {parts[4]}\")    # e.g. \"Track 3\"\n",
    "    result.append(f\"{parts[6]}\")    # e.g. \"EZ: 101\"\n",
    "    result.append(f\"{parts[8]}\")    # e.g. \"EX: 98\"\n",
    "    if len(parts) > 9:              # e.g. \"Speed: 82   mph\"\n",
    "        result.append(f\"{parts[10]}\")   \n",
    "    else:\n",
    "        result.append('')\n",
    "    \n",
    "    return result\n",
    "\n",
    "def processFileData(readFile, writeFile):\n",
    "    while True:\n",
    "        dataLine = readFile.readline()\n",
    "\n",
    "        if dataLine == '': break    # check for end of file\n",
    "        if checkDataLine(dataLine) == False: continue\n",
    "\n",
    "        # break line of data into components and extract useful components\n",
    "        parts = dataLine.split()\n",
    "        dataList: list = groupTextFromParts(parts)\n",
    "\n",
    "        writeProcessedData(writeFile, dataList)\n",
    "\n",
    "\n",
    "def writeProcessedData(writeFile, dataList):\n",
    "    for data in dataList:\n",
    "        writeFile.write(data)\n",
    "        writeFile.write(\", \")\n",
    "    \n",
    "    writeFile.write(\"\\n\")\n",
    "    "
   ]
  },
  {
   "cell_type": "code",
   "execution_count": 49,
   "metadata": {},
   "outputs": [
    {
     "name": "stdout",
     "output_type": "stream",
     "text": [
      "Done!\n"
     ]
    }
   ],
   "source": [
    "file_path_read = r'Input\\StatLogSL1CP-106357A-17-Apr-2024-12-31-05.log'\n",
    "file_path_write = r'example.csv'\n",
    "\n",
    "with open(file_path_read, \"r\") as readFile:\n",
    "    with open(file_path_write, \"w\") as writeFile:\n",
    "        # add headings to file\n",
    "        writeFile.write(\"DATE, TIME, TRACK NUM, EZ, EX, SPEED (mph), \\n\")\n",
    "\n",
    "        processFileData(readFile, writeFile)\n",
    "\n",
    "\n",
    "print(\"Done!\")\n"
   ]
  }
 ],
 "metadata": {
  "kernelspec": {
   "display_name": "Python 3",
   "language": "python",
   "name": "python3"
  },
  "language_info": {
   "codemirror_mode": {
    "name": "ipython",
    "version": 3
   },
   "file_extension": ".py",
   "mimetype": "text/x-python",
   "name": "python",
   "nbconvert_exporter": "python",
   "pygments_lexer": "ipython3",
   "version": "3.10.4"
  }
 },
 "nbformat": 4,
 "nbformat_minor": 2
}
